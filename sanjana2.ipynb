{
 "cells": [
  {
   "cell_type": "code",
   "execution_count": 2,
   "id": "3632e79e-d7f3-4ead-8830-c53656f94e14",
   "metadata": {},
   "outputs": [
    {
     "name": "stdout",
     "output_type": "stream",
     "text": [
      "enter the number of rows: 3\n",
      "enter the number of column: 3\n",
      "enter the elements 6\n",
      "enter the elements 4\n",
      "enter the elements 2\n",
      "enter the elements 9\n",
      "enter the elements 1\n",
      "enter the elements 4\n",
      "enter the elements 7\n",
      "enter the elements 1\n",
      "enter the elements 4\n"
     ]
    },
    {
     "name": "stdout",
     "output_type": "stream",
     "text": [
      "\n",
      " matrix:\n",
      "[6, 4, 2]\n",
      "[9, 1, 4]\n",
      "[7, 1, 4]\n"
     ]
    }
   ],
   "source": [
    "#Display of matrix\n",
    "row = int(input(\"enter the number of rows:\"))\n",
    "column = int(input(\"enter the number of column:\"))\n",
    "matrix=[]\n",
    "for i in range(row):\n",
    "    row=[]\n",
    "    for j in range(column):\n",
    "        value=int(input('enter the elements'))\n",
    "        row.append(value)\n",
    "    matrix.append(row)\n",
    "print(\"\\n matrix:\")\n",
    "for row in matrix:\n",
    "    print(row)\n"
   ]
  },
  {
   "cell_type": "code",
   "execution_count": 20,
   "id": "d6cb3bdf-1a27-4602-8a0e-12de1f0c5d25",
   "metadata": {},
   "outputs": [
    {
     "name": "stdout",
     "output_type": "stream",
     "text": [
      "enter the number of rows: 2\n",
      "enter the number of column: 2\n",
      "enter the elements 1\n",
      "enter the elements 2\n",
      "enter the elements 3\n",
      "enter the elements 4\n"
     ]
    },
    {
     "name": "stdout",
     "output_type": "stream",
     "text": [
      "\n",
      " matrix:\n",
      "[1, 2]\n",
      "[3, 4]\n",
      "\n",
      "\n",
      "[1, 3]\n",
      "[2, 4]\n"
     ]
    }
   ],
   "source": [
    "#Transpose of matrix\n",
    "row = int(input(\"enter the number of rows:\"))\n",
    "column = int(input(\"enter the number of column:\"))\n",
    "matrix=[]\n",
    "for i in range(row):\n",
    "    row=[]\n",
    "    for j in range(column):\n",
    "        value=int(input('enter the elements'))\n",
    "        row.append(value)\n",
    "    matrix.append(row)\n",
    "print(\"\\n matrix:\")\n",
    "for row in matrix:\n",
    "    print(row)\n",
    "result=[\n",
    "        [0,0,],\n",
    "        [0,0,],\n",
    "]\n",
    "print('\\n')\n",
    "\n",
    "for i in range(len(matrix)):\n",
    "    for j in range(len(matrix[0])):\n",
    "        result[j][i] = matrix[i][j]\n",
    "\n",
    "for i in result:\n",
    "    print(i)\n",
    "    \n"
   ]
  },
  {
   "cell_type": "code",
   "execution_count": 32,
   "id": "f78fb5c3-413e-4657-ab28-7c772ae27f1b",
   "metadata": {},
   "outputs": [
    {
     "name": "stdout",
     "output_type": "stream",
     "text": [
      "enter the number of rows: 2\n",
      "enter the number of column: 2\n",
      "enter the elements 1\n",
      "enter the elements 2\n",
      "enter the elements 3\n",
      "enter the elements 4\n"
     ]
    },
    {
     "name": "stdout",
     "output_type": "stream",
     "text": [
      "\n",
      " matrix:\n",
      "[1, 2]\n",
      "[3, 4]\n"
     ]
    },
    {
     "name": "stdout",
     "output_type": "stream",
     "text": [
      "enter the number of rows: 2\n",
      "enter the number of column: 2\n",
      "enter the elements 5\n",
      "enter the elements 6\n",
      "enter the elements 7\n",
      "enter the elements 8\n"
     ]
    },
    {
     "name": "stdout",
     "output_type": "stream",
     "text": [
      "\n",
      " matrix:\n",
      "[5, 6]\n",
      "[7, 8]\n",
      "\n",
      "\n",
      "Resultant matrix:\n",
      "[6, 8]\n",
      "[10, 12]\n"
     ]
    }
   ],
   "source": [
    "#Addition of Matrix\n",
    "row = int(input(\"enter the number of rows:\"))\n",
    "column = int(input(\"enter the number of column:\"))\n",
    "matrix1=[]\n",
    "for i in range(row):\n",
    "    row=[]\n",
    "    for j in range(column):\n",
    "        value=int(input('enter the elements'))\n",
    "        row.append(value)\n",
    "    matrix1.append(row)\n",
    "print(\"\\n matrix:\")\n",
    "for row in matrix1:\n",
    "    print(row)\n",
    "row = int(input(\"enter the number of rows:\"))\n",
    "column = int(input(\"enter the number of column:\"))\n",
    "matrix2=[]\n",
    "for i in range(row):\n",
    "    row=[]\n",
    "    for j in range(column):\n",
    "        value=int(input('enter the elements'))\n",
    "        row.append(value)\n",
    "    matrix2.append(row)\n",
    "print(\"\\n matrix:\")\n",
    "for row in matrix2:\n",
    "    print(row)\n",
    "    result=[\n",
    "        [0,0],\n",
    "        [0,0],\n",
    "]\n",
    "print('\\n')\n",
    "for i in range(len(matrix1)):\n",
    "    for j in range(len(matrix1[0])):\n",
    "        result[i][j] = matrix1[i][j] + matrix2[i][j]\n",
    "print('Resultant matrix:')\n",
    "for i in result:\n",
    "    print(i)\n",
    "    "
   ]
  },
  {
   "cell_type": "code",
   "execution_count": 34,
   "id": "840b7b6a-18e0-4169-a4bf-7f5db219a1e2",
   "metadata": {},
   "outputs": [
    {
     "name": "stdout",
     "output_type": "stream",
     "text": [
      "enter the number of rows: 2\n",
      "enter the number of column: 2\n",
      "enter the elements 1\n",
      "enter the elements 2\n",
      "enter the elements 3\n",
      "enter the elements 4\n"
     ]
    },
    {
     "name": "stdout",
     "output_type": "stream",
     "text": [
      "\n",
      " matrix:\n",
      "[1, 2]\n",
      "[3, 4]\n"
     ]
    },
    {
     "name": "stdout",
     "output_type": "stream",
     "text": [
      "enter the number of rows: 2\n",
      "enter the number of column: 2\n",
      "enter the elements 5\n",
      "enter the elements 6\n",
      "enter the elements 7\n",
      "enter the elements 8\n"
     ]
    },
    {
     "name": "stdout",
     "output_type": "stream",
     "text": [
      "\n",
      " matrix:\n",
      "[5, 6]\n",
      "[7, 8]\n",
      "\n",
      "\n",
      "Resultant matrix:\n",
      "[5, 12]\n",
      "[21, 32]\n"
     ]
    }
   ],
   "source": [
    "#Multiplication of Mtrix\n",
    "row = int(input(\"enter the number of rows:\"))\n",
    "column = int(input(\"enter the number of column:\"))\n",
    "matrix1=[]\n",
    "for i in range(row):\n",
    "    row=[]\n",
    "    for j in range(column):\n",
    "        value=int(input('enter the elements'))\n",
    "        row.append(value)\n",
    "    matrix1.append(row)\n",
    "print(\"\\n matrix:\")\n",
    "for row in matrix1:\n",
    "    print(row)\n",
    "row = int(input(\"enter the number of rows:\"))\n",
    "column = int(input(\"enter the number of column:\"))\n",
    "matrix2=[]\n",
    "for i in range(row):\n",
    "    row=[]\n",
    "    for j in range(column):\n",
    "        value=int(input('enter the elements'))\n",
    "        row.append(value)\n",
    "    matrix2.append(row)\n",
    "print(\"\\n matrix:\")\n",
    "for row in matrix2:\n",
    "    print(row)\n",
    "    result=[\n",
    "        [0,0],\n",
    "        [0,0],\n",
    "]\n",
    "print('\\n')\n",
    "for i in range(len(matrix1)):\n",
    "    for j in range(len(matrix1[0])):\n",
    "        result[i][j] = matrix1[i][j] * matrix2[i][j]\n",
    "print('Resultant matrix:')\n",
    "for i in result:\n",
    "    print(i)\n",
    "    "
   ]
  },
  {
   "cell_type": "code",
   "execution_count": 36,
   "id": "d603b635-75c3-42e3-a5da-206c88d873f9",
   "metadata": {},
   "outputs": [
    {
     "name": "stdout",
     "output_type": "stream",
     "text": [
      "enter no. of rows: 3\n",
      "enter no. of columns: 3\n",
      "enter the element: 1\n",
      "enter the element: 2\n",
      "enter the element: 5\n",
      "enter the element: 2\n",
      "enter the element: 8\n",
      "enter the element: 2\n",
      "enter the element: 1\n",
      "enter the element: 5\n",
      "enter the element: 1\n"
     ]
    },
    {
     "name": "stdout",
     "output_type": "stream",
     "text": [
      "MATRIX\n",
      "[1, 2, 5]\n",
      "[2, 8, 2]\n",
      "[1, 5, 1]\n",
      "Sum of diagonal elements: 10\n"
     ]
    }
   ],
   "source": [
    "#Sum of diagonal matrix \n",
    "row=int(input(\"enter no. of rows:\"))\n",
    "column=int(input(\"enter no. of columns:\"))\n",
    "matrix=[]\n",
    "for i in range(row):\n",
    "    rows=[]\n",
    "    for j in range(column):\n",
    "        value=int(input('enter the element:'))\n",
    "        rows.append(value)\n",
    "    matrix.append(rows)\n",
    "print(\"MATRIX\")\n",
    "for rows in matrix:\n",
    "    print(rows)\n",
    "diagonal_sum = 0\n",
    "if row==column:\n",
    "    for i in range(row):\n",
    "        diagonal_sum += matrix[i][i]\n",
    "    print(\"Sum of diagonal elements:\", diagonal_sum)\n",
    "else:\n",
    "    print(\"Matrix is not square matrix\")\n"
   ]
  },
  {
   "cell_type": "code",
   "execution_count": 42,
   "id": "b7abc8cf-0378-4ce7-95dc-e789e7b8e99a",
   "metadata": {},
   "outputs": [
    {
     "name": "stdout",
     "output_type": "stream",
     "text": [
      "    *\n",
      "   **\n",
      "  ***\n",
      " ****\n",
      "*****\n",
      "\n",
      "\n",
      "\n",
      "*    \n",
      "**   \n",
      "***  \n",
      "**** \n",
      "*****\n",
      "\n",
      "\n",
      "\n",
      "    *\n",
      "   ***\n",
      "  *****\n",
      " *******\n",
      "*********\n",
      "\n",
      "\n",
      "*********\n",
      " *******\n",
      "  *****\n",
      "   ***\n",
      "    *\n",
      "\n",
      "\n",
      "* \n",
      "* \n",
      "* \n",
      "* * * * \n",
      "\n",
      "\n"
     ]
    }
   ],
   "source": [
    "#Pattern Programming\n",
    "def rhalf_pyramid(n):\n",
    "    for i in range(1,n+1):\n",
    "        print((\"*\"*i).rjust(n))\n",
    "    print(\"\")\n",
    "rhalf_pyramid(5)\n",
    "print(\"\\n\")\n",
    "\n",
    "def lhalf_pyramid(n):\n",
    "    for i in range(1,n+1):\n",
    "        print((\"*\"*i).ljust(n))\n",
    "    print(\"\")\n",
    "lhalf_pyramid(5)\n",
    "print(\"\\n\")\n",
    "def full_pyramid(n):\n",
    "     for i in range(1, n + 1):\n",
    "         for j in range(n - i):\n",
    "             print(\" \", end=\"\")\n",
    "         for k in range(1, 2*i):\n",
    "             print(\"*\", end=\"\")\n",
    "         print()\n",
    "full_pyramid(5)\n",
    "print(\"\\n\")\n",
    "\n",
    "def inverted_full_pyramid(n):\n",
    "    for i in range(n, 0,-1):\n",
    "        for j in range(n - i):\n",
    "            print(\" \", end=\"\")\n",
    "        for k in range(2*i - 1):\n",
    "            print(\"*\", end=\"\")\n",
    "        print()\n",
    "inverted_full_pyramid(5)\n",
    "print(\"\\n\")\n",
    "\n",
    "def L_shape(h,w):\n",
    "    for i in range(h):\n",
    "        if i==h-1:\n",
    "            print(\"* \"*w)\n",
    "        else:\n",
    "            print(\"* \")\n",
    "L_shape(4,4)\n",
    "print(\"\\n\")"
   ]
  },
  {
   "cell_type": "code",
   "execution_count": 48,
   "id": "7d79e319-55fd-407c-b0cd-82fe01c0886e",
   "metadata": {},
   "outputs": [
    {
     "name": "stdout",
     "output_type": "stream",
     "text": [
      "Enter number of rows:  3\n"
     ]
    },
    {
     "name": "stdout",
     "output_type": "stream",
     "text": [
      "\n",
      "Current Seating Arrangement:\n",
      " - - - - - - | - - - - - - - - - - | - - - - - -\n",
      " - - - - - - | - - - - - - - - - - | - - - - - -\n",
      " - - - - - - | - - - - - - - - - - | - - - - - -\n"
     ]
    },
    {
     "name": "stdout",
     "output_type": "stream",
     "text": [
      "\n",
      "Do you want to book a seat? (yes/no):  yes\n",
      "Enter row number to book (1 to 3):  2\n",
      "Enter seat number to book (1 to 22):  14\n"
     ]
    },
    {
     "name": "stdout",
     "output_type": "stream",
     "text": [
      "Seat (2, 14) booked successfully!\n",
      "\n",
      "Current Seating Arrangement:\n",
      " - - - - - - | - - - - - - - - - - | - - - - - -\n",
      " - - - - - - | - - - - - - - * - - | - - - - - -\n",
      " - - - - - - | - - - - - - - - - - | - - - - - -\n"
     ]
    },
    {
     "name": "stdout",
     "output_type": "stream",
     "text": [
      "\n",
      "Do you want to book a seat? (yes/no):  no\n"
     ]
    },
    {
     "name": "stdout",
     "output_type": "stream",
     "text": [
      "\n",
      "Final Auditorium Seating Arrangement:\n",
      "\n",
      "Current Seating Arrangement:\n",
      " - - - - - - | - - - - - - - - - - | - - - - - -\n",
      " - - - - - - | - - - - - - - * - - | - - - - - -\n",
      " - - - - - - | - - - - - - - - - - | - - - - - -\n",
      "Booking process complete. Enjoy the show! \n"
     ]
    }
   ],
   "source": [
    "num_rows = int(input(\"Enter number of rows: \"))\n",
    "section1 = 6\n",
    "section2 = 10\n",
    "section3 = 6\n",
    "\n",
    "total_seats = section1 + section2 + section3\n",
    "\n",
    "\n",
    "auditorium = [[\"-\" for _ in range(total_seats)] for _ in range(num_rows)]\n",
    "\n",
    "\n",
    "def book_seat(row, seat):\n",
    "    if 0 <= row < num_rows and 0 <= seat < total_seats:\n",
    "\n",
    "        if auditorium[row][seat] == \"-\":\n",
    "            auditorium[row][seat] = \"*\"\n",
    "            print(f\"Seat ({row+1}, {seat+1}) booked successfully!\")\n",
    "        else:\n",
    "            print(f\"Seat ({row+1}, {seat+1}) is already booked.\")\n",
    "    else:\n",
    "        print(\"Invalid seat number. Please try again.\")\n",
    "\n",
    "def display_seating():\n",
    "\n",
    "    print(\"\\nCurrent Seating Arrangement:\")\n",
    "    for row in auditorium:\n",
    "        line = \"\"\n",
    "        for i, seat in enumerate(row):\n",
    "            if i == section1 or i == section1 + section2:\n",
    "                line += \" |\"  \n",
    "            line += f\" {seat}\"\n",
    "        print(line)\n",
    "\n",
    "while True:\n",
    "    display_seating()\n",
    "\n",
    "   \n",
    "    choice = input(\"\\nDo you want to book a seat? (yes/no): \").lower()\n",
    "    if choice == \"no\":\n",
    "        break\n",
    "\n",
    "    row = int(input(f\"Enter row number to book (1 to {num_rows}): \")) - 1\n",
    "    seat = int(input(f\"Enter seat number to book (1 to {total_seats}): \")) - 1\n",
    "\n",
    "    book_seat(row, seat)\n",
    "\n",
    "\n",
    "print(\"\\nFinal Auditorium Seating Arrangement:\")\n",
    "display_seating()\n",
    "\n",
    "print(\"Booking process complete. Enjoy the show! \")"
   ]
  },
  {
   "cell_type": "code",
   "execution_count": null,
   "id": "de77baf6-2c12-4494-a2d4-267ac787fa0b",
   "metadata": {},
   "outputs": [],
   "source": []
  }
 ],
 "metadata": {
  "kernelspec": {
   "display_name": "Python 3 (ipykernel)",
   "language": "python",
   "name": "python3"
  },
  "language_info": {
   "codemirror_mode": {
    "name": "ipython",
    "version": 3
   },
   "file_extension": ".py",
   "mimetype": "text/x-python",
   "name": "python",
   "nbconvert_exporter": "python",
   "pygments_lexer": "ipython3",
   "version": "3.12.4"
  }
 },
 "nbformat": 4,
 "nbformat_minor": 5
}
