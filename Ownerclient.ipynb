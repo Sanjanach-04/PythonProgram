{
 "cells": [
  {
   "cell_type": "code",
   "execution_count": 53,
   "id": "2a7e0f7c-1487-44b1-8be9-765c1bf092ba",
   "metadata": {},
   "outputs": [
    {
     "name": "stdout",
     "output_type": "stream",
     "text": [
      "enter the number: 3\n",
      "enter the number: 2\n",
      "enter your choice 2\n"
     ]
    },
    {
     "name": "stdout",
     "output_type": "stream",
     "text": [
      "Invalid condition\n",
      "None\n"
     ]
    }
   ],
   "source": [
    "a = int(input(\"enter the number:\"))\n",
    "b = int(input(\"enter the number:\"))\n",
    "class Calculator:\n",
    "    def __init__(self,a,b):\n",
    "        self.a=a\n",
    "        self.b=b\n",
    "    def sum(self):\n",
    "        if(a>b):\n",
    "            print(a+b)\n",
    "        else:\n",
    "            print(\"Invalid condition\")\n",
    "    def difference(self):\n",
    "        if(a<b):\n",
    "            print(a-b)\n",
    "        else:\n",
    "            print(\"Invalid condition\")\n",
    "    def multiply(self):\n",
    "        if(a==b):\n",
    "            print(a*b)\n",
    "        else:\n",
    "            print(\"invalid condition\")\n",
    "    def divide(self):\n",
    "        if(a>=b):\n",
    "            print(a/b)\n",
    "        else:\n",
    "            print(\"Invalid condition\")\n",
    "            \n",
    "sol = Calculator(a,b)\n",
    "choice=int(input(\"enter your choice\"))\n",
    "if choice == 1:\n",
    "    print(sol.add())\n",
    "elif choice == 2:\n",
    "    print(sol.difference())\n",
    "elif choice == 3:\n",
    "    print(sol.multiply())\n",
    "elif choice == 4:\n",
    "    print(sol.divide())\n",
    "else:\n",
    "    print(\"Invalid choice\")\n"
   ]
  },
  {
   "cell_type": "code",
   "execution_count": 12,
   "id": "56097f01-35ba-4be7-a801-4eb1a61a3328",
   "metadata": {},
   "outputs": [
    {
     "name": "stdout",
     "output_type": "stream",
     "text": [
      "enter the coice(1,2,3,4) 4\n",
      "enter the number: 10\n",
      "enter the number: 2\n"
     ]
    },
    {
     "name": "stdout",
     "output_type": "stream",
     "text": [
      "10/2 = 5.0\n"
     ]
    }
   ],
   "source": [
    "def sum(a,b):\n",
    "    return a+b\n",
    "def difference(a,b):\n",
    "    return a-b\n",
    "def multiply(a,b):\n",
    "    return a*b\n",
    "def divide(a,b):\n",
    "    return a/b\n",
    "def calculator():\n",
    "    print(\"1.sum\")\n",
    "    print(\"2.difference\")\n",
    "    print(\"3.multiply\")\n",
    "    print(\"4.divide\")\n",
    "choice=int(input(\"enter the coice(1,2,3,4)\"))\n",
    "a = int(input(\"enter the number:\"))\n",
    "b = int(input(\"enter the number:\"))\n",
    "if choice == 1:\n",
    "    print(f\"{a}+{b} = {sum(a,b)}\")\n",
    "elif choice == 2:\n",
    "    print(f\"{a}-{b} = {difference(a,b)}\")\n",
    "elif choice == 3:\n",
    "    print(f\"{a}*{b} = {multiply(a,b)}\")\n",
    "elif choice == 4:\n",
    "    print(f\"{a}/{b} = {divide(a,b)}\")\n",
    "else:\n",
    "    print(\"Invalid choice\")\n"
   ]
  },
  {
   "cell_type": "code",
   "execution_count": 178,
   "id": "957424aa-65c7-4e6a-bab2-4658500a3bff",
   "metadata": {},
   "outputs": [
    {
     "name": "stdout",
     "output_type": "stream",
     "text": [
      "Who are you owner\n",
      "enter how many items 3\n",
      "enter the item a\n",
      "enter the item s\n",
      "enter the item d\n"
     ]
    },
    {
     "name": "stdout",
     "output_type": "stream",
     "text": [
      "['a', 's', 'd']\n"
     ]
    },
    {
     "name": "stdout",
     "output_type": "stream",
     "text": [
      "Who are you client\n"
     ]
    },
    {
     "name": "stdout",
     "output_type": "stream",
     "text": [
      "['a', 's', 'd']\n"
     ]
    },
    {
     "name": "stdout",
     "output_type": "stream",
     "text": [
      "enter the item required s\n"
     ]
    },
    {
     "name": "stdout",
     "output_type": "stream",
     "text": [
      "item is delivered to client\n",
      "['a', 'd']\n"
     ]
    }
   ],
   "source": [
    "storage=[]\n",
    "def owner():\n",
    "    size=int(input(\"enter how many items\"))\n",
    "    for i in range(size):\n",
    "        item=input(\"enter the item\")\n",
    "        storage.append(item)\n",
    "    print(storage)\n",
    "def client():\n",
    "    print(storage)\n",
    "    req=input(\"enter the item required\")\n",
    "    if storage[i] == req:\n",
    "        print(\"item is delivered to client\")\n",
    "        storage.remove(req)\n",
    "        print(storage)\n",
    "    else:\n",
    "        print(\"item not available\")\n",
    "for i in range(2):\n",
    "    person=input(\"Who are you\")\n",
    "    if person == \"owner\":\n",
    "        owner()\n",
    "    elif person == \"client\":\n",
    "        client()\n",
    "    else:\n",
    "        print('invalid person')"
   ]
  },
  {
   "cell_type": "code",
   "execution_count": 186,
   "id": "d67dfe20-cca5-4c95-b134-436c851a82b7",
   "metadata": {},
   "outputs": [
    {
     "name": "stdout",
     "output_type": "stream",
     "text": [
      "Who are you? (owner/client):  owner\n",
      "Enter the number of new items:  3\n",
      "Enter the item:  a\n",
      "Enter the item:  s\n",
      "Enter the item:  t\n"
     ]
    },
    {
     "name": "stdout",
     "output_type": "stream",
     "text": [
      "Updated storage: ['a', 's', 't']\n"
     ]
    },
    {
     "name": "stdout",
     "output_type": "stream",
     "text": [
      "Who are you? (owner/client):  client\n"
     ]
    },
    {
     "name": "stdout",
     "output_type": "stream",
     "text": [
      "Available items: ['a', 's', 't']\n"
     ]
    },
    {
     "name": "stdout",
     "output_type": "stream",
     "text": [
      "What item do you want to buy?  s\n"
     ]
    },
    {
     "name": "stdout",
     "output_type": "stream",
     "text": [
      "s bought successfully!\n",
      "Updated storage: ['a', 't']\n"
     ]
    }
   ],
   "source": [
    "class Store:\n",
    "    def __init__(self):\n",
    "        self.storage = []\n",
    "\n",
    "    def owner(self):\n",
    "        size = int(input(\"Enter the number of new items: \"))\n",
    "        for i in range(size):\n",
    "            item = str(input(\"Enter the item: \"))\n",
    "            self.storage.append(item)\n",
    "        print(\"Updated storage:\", self.storage)\n",
    "\n",
    "    def client(self):\n",
    "        print(\"Available items:\", self.storage)\n",
    "        req = str(input(\"What item do you want to buy? \"))\n",
    "        if req in self.storage:\n",
    "            self.storage.remove(req)\n",
    "            print(f\"{req} bought successfully!\")\n",
    "        else:\n",
    "            print(f\"{req} is not available.\")\n",
    "        print(\"Updated storage:\", self.storage)\n",
    "\n",
    "\n",
    "store = Store()\n",
    "\n",
    "\n",
    "for i in range(2):\n",
    "    person = input(\"Who are you? (owner/client): \")\n",
    "    if person == \"owner\":\n",
    "        store.owner()\n",
    "    elif person == \"client\":\n",
    "        store.client()\n",
    "    else:\n",
    "        print(\"Invalid input. Please enter 'owner' or 'client'.\")"
   ]
  },
  {
   "cell_type": "code",
   "execution_count": null,
   "id": "a4b5c70d-8455-46fc-b4a9-092960c00672",
   "metadata": {},
   "outputs": [],
   "source": []
  }
 ],
 "metadata": {
  "kernelspec": {
   "display_name": "Python 3 (ipykernel)",
   "language": "python",
   "name": "python3"
  },
  "language_info": {
   "codemirror_mode": {
    "name": "ipython",
    "version": 3
   },
   "file_extension": ".py",
   "mimetype": "text/x-python",
   "name": "python",
   "nbconvert_exporter": "python",
   "pygments_lexer": "ipython3",
   "version": "3.12.4"
  }
 },
 "nbformat": 4,
 "nbformat_minor": 5
}
